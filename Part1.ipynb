{
  "nbformat": 4,
  "nbformat_minor": 0,
  "metadata": {
    "colab": {
      "name": "Part1.ipynb",
      "provenance": [],
      "collapsed_sections": [],
      "authorship_tag": "ABX9TyOwAU+s3B64RynVHuoE3ORW",
      "include_colab_link": true
    },
    "kernelspec": {
      "name": "python3",
      "display_name": "Python 3"
    }
  },
  "cells": [
    {
      "cell_type": "markdown",
      "metadata": {
        "id": "view-in-github",
        "colab_type": "text"
      },
      "source": [
        "<a href=\"https://colab.research.google.com/github/Clalloures/TensorFlow/blob/main/Part1.ipynb\" target=\"_parent\"><img src=\"https://colab.research.google.com/assets/colab-badge.svg\" alt=\"Open In Colab\"/></a>"
      ]
    },
    {
      "cell_type": "markdown",
      "metadata": {
        "id": "-xUgbDUVDdaD"
      },
      "source": [
        "# TensorFlow\n",
        "\n",
        "## Deep Learnin Frameworks\n",
        "\n",
        "\n",
        "- TensorFlow\n",
        "- Keras\n",
        "- PyTorch\n",
        "- Caffe\n",
        "- Theano\n",
        "- DL4J\n",
        "- Chainer\n",
        "\n",
        "## What is TensorFlow?\n",
        "\n",
        "TensorFlow is a popular open-source library released in 2015 by Google Brain team for building Machine Learning and Deep Learning Models. It is based on Python programming language and performs numerical computations using data flow graphs to buil models.\n",
        "\n",
        "- It works efficientlt with multi-dimensional arrays.\n",
        "- Provides scalability of computation across machines and large data sets.\n",
        "- Support fast debugging and model building\n",
        "- Has a large community and provides TensorBoard to visualize the model\n",
        "\n",
        "## TensorFlow Applications\n",
        "\n",
        "- Face Detection\n",
        "- Language Translation\n",
        "- Fraud Detection\n",
        "- Video Detection\n",
        "\n",
        "\n",
        "## Tensors?\n",
        "\n",
        "TensorFlow is derived from its core componet known as Tensor\n",
        "A tensor is a vector or a matrix of n-dimensions that represent all types of data. \n",
        "\n",
        "In TensorFlow, tensors are defined by a unit of dimensionality called as rank.\n",
        "\n",
        "Tensorflow performs computations with the help of dataflow graphs,It has nodes that represent the operatiosn in your model.\n",
        "\n",
        "## TensorFlow 1.0 vs 2.0\n",
        "\n",
        "TesorFlow 2.0 support Eager execution by default. It allows you buld your model and run them instantly.\n",
        "\n",
        "Keras is the high level API in TensorFlow 2.0. Keras is the official high-level API of TensorFlow 2.0. It has incorporated Keras as tf.keras. Keras provides a number of model building APIs such as Sequential, Functional, and Subclassing, so you can choose the right level of abstraction for your project.\n",
        "\n",
        "In TensorFlow 1.x, in order to use tf.layes as variables, we had to write tf.variable block. In TensorFlow 2.0, all the layers created using tf.layers can be put into a tf.Keras.Sequential definition.\n",
        "\n",
        "\n",
        "\n",
        "\n",
        "\n",
        "\n"
      ]
    },
    {
      "cell_type": "code",
      "metadata": {
        "id": "BkwVjnb6Dcn2",
        "outputId": "a8519076-4ab6-4f94-c887-78af47f3eb1a",
        "colab": {
          "base_uri": "https://localhost:8080/"
        }
      },
      "source": [
        "import tensorflow as tf\n",
        "print((\"Your TensorFlow version: {0}\").format(tf.__version__))\n"
      ],
      "execution_count": 1,
      "outputs": [
        {
          "output_type": "stream",
          "text": [
            "Your TensorFlow version: 2.3.0\n"
          ],
          "name": "stdout"
        }
      ]
    },
    {
      "cell_type": "code",
      "metadata": {
        "id": "MxOSZADxHp51",
        "outputId": "c098bb79-4b4a-4e94-b7b6-ada206dd6a9d",
        "colab": {
          "base_uri": "https://localhost:8080/"
        }
      },
      "source": [
        "# Tensor\n",
        "A = tf.constant([[4, 3],\n",
        "                [6, 1]])\n",
        "A"
      ],
      "execution_count": 3,
      "outputs": [
        {
          "output_type": "execute_result",
          "data": {
            "text/plain": [
              "<tf.Tensor: shape=(2, 2), dtype=int32, numpy=\n",
              "array([[4, 3],\n",
              "       [6, 1]], dtype=int32)>"
            ]
          },
          "metadata": {
            "tags": []
          },
          "execution_count": 3
        }
      ]
    },
    {
      "cell_type": "code",
      "metadata": {
        "id": "d0Exsm46INYI",
        "outputId": "3579c3ed-ae98-4be1-89c7-d89e25b98a0f",
        "colab": {
          "base_uri": "https://localhost:8080/"
        }
      },
      "source": [
        "# Variable\n",
        "V = tf.Variable([[3,1],\n",
        "                 [5,2]])\n",
        "\n",
        "B = tf.constant([[7,8],\n",
        "                [4,5]])\n",
        "\n",
        "print(V)\n",
        "B"
      ],
      "execution_count": 7,
      "outputs": [
        {
          "output_type": "stream",
          "text": [
            "<tf.Variable 'Variable:0' shape=(2, 2) dtype=int32, numpy=\n",
            "array([[3, 1],\n",
            "       [5, 2]], dtype=int32)>\n"
          ],
          "name": "stdout"
        },
        {
          "output_type": "execute_result",
          "data": {
            "text/plain": [
              "<tf.Tensor: shape=(2, 2), dtype=int32, numpy=\n",
              "array([[7, 8],\n",
              "       [4, 5]], dtype=int32)>"
            ]
          },
          "metadata": {
            "tags": []
          },
          "execution_count": 7
        }
      ]
    },
    {
      "cell_type": "code",
      "metadata": {
        "id": "UWE3c_kgIXbQ",
        "outputId": "7899f3c1-04f1-4638-a10a-067f8339a7a1",
        "colab": {
          "base_uri": "https://localhost:8080/"
        }
      },
      "source": [
        "# Concatenate columns\n",
        "AB_concatenated = tf.concat(values = [A,B], axis=1)\n",
        "AB_concatenated"
      ],
      "execution_count": 8,
      "outputs": [
        {
          "output_type": "execute_result",
          "data": {
            "text/plain": [
              "<tf.Tensor: shape=(2, 4), dtype=int32, numpy=\n",
              "array([[4, 3, 7, 8],\n",
              "       [6, 1, 4, 5]], dtype=int32)>"
            ]
          },
          "metadata": {
            "tags": []
          },
          "execution_count": 8
        }
      ]
    }
  ]
}